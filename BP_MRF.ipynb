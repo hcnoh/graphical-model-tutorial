{
 "cells": [
  {
   "cell_type": "markdown",
   "metadata": {},
   "source": [
    "In this notebook, we will look into the most common inference algorithm for graphical models. The name of the algorithm is Belief Propagation (BP), or Sum-product algorithm. BP algorithm is very powerful tool for infering a given graphical model, such as Bayesian Network or Markov Random Field. By this inference processes, we can get the marginal distributions or the joint distributions of some given random variables easily."
   ]
  },
  {
   "cell_type": "code",
   "execution_count": 1,
   "metadata": {},
   "outputs": [],
   "source": [
    "from itertools import product\n",
    "from copy import deepcopy, copy\n",
    "\n",
    "import numpy as np\n",
    "import matplotlib.pyplot as plt"
   ]
  },
  {
   "cell_type": "markdown",
   "metadata": {},
   "source": [
    "### Node Declaration\n",
    "The first step for implementation of graphical model is to declare the Node class. A Node instance should denote a random variable of the given system. Hence, Node class should have the moethods which deal with the message getting into the node itself: `init_messages`, `message`, `update_messages`, `get_marginal_distribution`."
   ]
  },
  {
   "cell_type": "code",
   "execution_count": 2,
   "metadata": {},
   "outputs": [],
   "source": [
    "class Node():\n",
    "    def __init__(self, name, vals):\n",
    "        self.name = name\n",
    "        self.vals = vals\n",
    "        self.vals.sort()\n",
    "    \n",
    "    def init_messages(self, adj_mtx_row, factors):\n",
    "        '''\n",
    "        \n",
    "        Initializes the messages from the adjacent factors to this node.\n",
    "\n",
    "        Args:\n",
    "            adj_mtx_row: The adjacent matrix row whose elements denote 1 for nodes adjacent to this node\n",
    "                and 0 for not, and factors\n",
    "            factors: The list for all factors which is declared before\n",
    "            \n",
    "        '''\n",
    "        self.factors = []\n",
    "        self.factor2pos_idx = {}\n",
    "        self.factor2adj_nodes = {}\n",
    "        self.factor2message = {}\n",
    "        for i in np.where(adj_mtx_row == 1)[0]:\n",
    "            factor = factors[i]\n",
    "            \n",
    "            self.factors.append(factor)\n",
    "            self.factor2pos_idx[factor] = factor.nodes.index(self)            \n",
    "            \n",
    "            adj_nodes = factor.nodes[:]\n",
    "            adj_nodes.remove(self)\n",
    "            adj_vals = list(product(*[adj_node.vals for adj_node in adj_nodes]))\n",
    "            self.factor2adj_nodes[factor] = (adj_nodes, adj_vals)\n",
    "            \n",
    "            self.factor2message[factor] = {val: 0. for val in self.vals}\n",
    "    \n",
    "    def message(self, factor, val):\n",
    "        '''\n",
    "        \n",
    "        Returned the message getting into this node with respect to the given arguments.\n",
    "\n",
    "        Args:\n",
    "            factor: The factor index that we want to get\n",
    "            val: The value associated with the random variable\n",
    "            \n",
    "        '''\n",
    "        return self.factor2message[factor][val]\n",
    "    \n",
    "    def update_messages(self):\n",
    "        '''\n",
    "        \n",
    "        Update the messages for the one step in BP algorithm.\n",
    "        \n",
    "        '''\n",
    "        new_factor2message = copy(self.factor2message)\n",
    "        for val in self.vals:\n",
    "            for factor in self.factors:\n",
    "                adj_nodes, adj_vals = self.factor2adj_nodes[factor]\n",
    "                if len(adj_nodes) != 0:\n",
    "                    summation = 0\n",
    "                    for adj_val in adj_vals:\n",
    "                        factor_in = list(deepcopy(adj_val))\n",
    "                        factor_in.insert(self.factor2pos_idx[factor], val)\n",
    "                        prod = factor(tuple(factor_in))\n",
    "                        for j, adj_node in enumerate(adj_nodes):\n",
    "                            prod *= factor.message(adj_node, adj_val[j])\n",
    "                        summation += prod\n",
    "                    new_factor2message[factor][val] = summation\n",
    "                else:\n",
    "                    new_factor2message[factor][val] = factor(val)\n",
    "        \n",
    "        return new_factor2message\n",
    "    \n",
    "    def marginal_distribution(self):\n",
    "        '''\n",
    "        \n",
    "        Returns the marginal distribution of the corresponding random variable. The result of this methods\n",
    "        reflects the BP algorithm result.\n",
    "        \n",
    "        '''\n",
    "        P = {}\n",
    "        for val in self.vals:\n",
    "            all_messages = [self.message(factor, val) for factor in self.factors]\n",
    "            P[val] = np.prod(all_messages)\n",
    "            \n",
    "        P_temp = deepcopy(P)\n",
    "        for val in self.vals:\n",
    "            P[val] /= np.sum([value for _, value in P_temp.items()])\n",
    "        \n",
    "        return P"
   ]
  },
  {
   "cell_type": "markdown",
   "metadata": {},
   "source": [
    "### Factor Declaration\n",
    "The next step is to decalre Factor class. This procedure is very similar to the previous Node declaration. A Factor instance should denote the system energy contribution of the random variables corresponding to this factor. Thus, the instance has the node list for the nodes corresponding to itself. The methods of Factor class are: `init_messages`, `message`, `update_messages`, `val_check`."
   ]
  },
  {
   "cell_type": "code",
   "execution_count": 3,
   "metadata": {},
   "outputs": [],
   "source": [
    "class Factor():\n",
    "    def __init__(self, name, nodes, maps, val_check=True):\n",
    "        '''\n",
    "        \n",
    "        Args:\n",
    "            name: The name of this factor, e.g. \"phi_1\"\n",
    "            nodes: The list of the input names of this factor, e.g. [\"X_1\", \"X_2\"]\n",
    "            maps: The dictionary of the map btw the value tuples of the inputs and the factor output values, e.g.\n",
    "                {(0, 0): 0.25, (0, 1): 0.25, (1, 0): 0.25, (1, 1): 0.25}, {0: 0.5, 1: 0.5}\n",
    "                \n",
    "        '''\n",
    "        self.name = name\n",
    "        self.nodes = nodes\n",
    "        self.maps = maps\n",
    "        if val_check:\n",
    "            self.val_check()\n",
    "    \n",
    "    def __call__(self, vals):\n",
    "        '''\n",
    "        \n",
    "        An example of this method's usage:\n",
    "            factor((1, 1)), Result: 0.25\n",
    "            factor(0), Result: 0.25\n",
    "                \n",
    "        '''\n",
    "        return self.maps[vals]\n",
    "    \n",
    "    def init_messages(self):\n",
    "        self.node2adj_factors = {}\n",
    "        self.node2message = {}\n",
    "        for node in self.nodes:            \n",
    "            adj_factors = node.factors[:]\n",
    "            adj_factors.remove(self)\n",
    "            self.node2adj_factors[node] = adj_factors\n",
    "            \n",
    "            self.node2message[node] = \\\n",
    "                {val: 1/len(node.vals) for val in node.vals} # Initialize as an uniform distribution.\n",
    "    \n",
    "    def message(self, node, val):\n",
    "        return self.node2message[node][val]\n",
    "    \n",
    "    def update_messages(self):\n",
    "        new_node2message = copy(self.node2message)\n",
    "        for node in self.nodes:\n",
    "            for val in node.vals:\n",
    "                adj_factors = self.node2adj_factors[node]\n",
    "                if len(adj_factors) != 0:\n",
    "                    prod = 1\n",
    "                    for adj_factor in adj_factors:\n",
    "                        prod *= node.message(adj_factor, val)\n",
    "                    new_node2message[node][val] = prod\n",
    "                else:\n",
    "                    new_node2message[node][val] = self.node2message[node][val]\n",
    "        \n",
    "        return new_node2message\n",
    "    \n",
    "    def val_check(self):\n",
    "        for i, node in enumerate(self.nodes):\n",
    "            vals = set()\n",
    "            for key in self.maps.keys():\n",
    "                try:\n",
    "                    vals.add(key[i])\n",
    "                except:\n",
    "                    vals.add(key)\n",
    "            vals = list(vals)\n",
    "            vals.sort()\n",
    "            \n",
    "            if node.vals != vals:\n",
    "                raise ValueError\n",
    "                \n",
    "    def joint_distribution(self):\n",
    "        '''\n",
    "        \n",
    "        Returns the joint distribution of the random variable associate with this factor.\n",
    "        The result of this methods reflects the BP algorithm result.\n",
    "        \n",
    "        '''\n",
    "        P = {}\n",
    "        for vals, factor_val in self.maps.items():\n",
    "            if len(self.nodes) == 1:\n",
    "                all_messages = [self.message(self.nodes[0], vals)]\n",
    "            else:\n",
    "                all_messages = [self.message(node, val) for node, val in zip(self.nodes, vals)]\n",
    "            P[vals] = factor_val * np.prod(all_messages)\n",
    "        \n",
    "        P_temp = deepcopy(P)\n",
    "        for vals, _ in self.maps.items():\n",
    "            P[vals] /= np.sum([value for _, value in P_temp.items()])\n",
    "        \n",
    "        return P"
   ]
  },
  {
   "cell_type": "markdown",
   "metadata": {},
   "source": [
    "### Markov Random Field (MRF) Declaration\n",
    "The final step is to declare MRF class. An instance of MRF class has to have its corresponding nodes and factors. Also the instance should have its own node and factor messages to update by using Belief Propagation algorithm. The methods of MRF class are: `belief_propagation`, `get_adj_mtx`."
   ]
  },
  {
   "cell_type": "code",
   "execution_count": 4,
   "metadata": {},
   "outputs": [],
   "source": [
    "class MarkovRandomField():\n",
    "    def __init__(self, nodes, factors):\n",
    "        self.nodes = nodes\n",
    "        self.factors = factors\n",
    "        \n",
    "        self.num_nodes = len(self.nodes)\n",
    "        self.num_factors = len(self.factors)\n",
    "        \n",
    "        self.adj_mtx = self.get_adj_mtx() # [num_nodes, num_factors]\n",
    "        for row, node in zip(self.adj_mtx, self.nodes):\n",
    "            node.init_messages(row, self.factors)\n",
    "        for factor in self.factors:\n",
    "            factor.init_messages()\n",
    "    \n",
    "    def belief_propagation(self, steps):\n",
    "        for i in range(steps):\n",
    "            for node in self.nodes:\n",
    "                new_factor2message = node.update_messages()\n",
    "                node.factor2message = new_factor2message\n",
    "            for factor in self.factors:\n",
    "                new_node2message = factor.update_messages()\n",
    "                factor.node2message = new_node2message\n",
    "    \n",
    "    def get_adj_mtx(self):\n",
    "        adj_mtx = np.zeros([self.num_nodes, self.num_factors])\n",
    "        \n",
    "        for i, node in enumerate(self.nodes):\n",
    "            for j, factor in enumerate(self.factors):\n",
    "                adj_mtx[i, j] = 1 if node in factor.nodes else 0\n",
    "        \n",
    "        return adj_mtx"
   ]
  },
  {
   "cell_type": "markdown",
   "metadata": {},
   "source": [
    "### Beilef Propagation Test\n",
    "To test the BP algorithm scipts, we should create a factor graph first. In this notebook we will use the example of the following link: [Graphical Model Tutorial 01 by Hyungcheol Noh](https://hcnoh.github.io/2020-01-26-graphical-model-01)\n",
    "\n",
    "Note that this example is based on a Bayesian Network."
   ]
  },
  {
   "cell_type": "markdown",
   "metadata": {},
   "source": [
    "![](./img_BP_MRF/01.png)\n",
    "\n",
    "![](./img_BP_MRF/02.png)"
   ]
  },
  {
   "cell_type": "markdown",
   "metadata": {},
   "source": [
    "The first step for our testing is to convert this Bayesian Network to the corresponding Markov Random Field. This is very simple procedure. Please check the link for explaining this procedure: [Graphical Model Tutorial 02 by Hyungcheol Noh](https://hcnoh.github.io/2020-01-26-graphical-model-02)"
   ]
  },
  {
   "cell_type": "markdown",
   "metadata": {},
   "source": [
    "![](./img_BP_MRF/03.png)\n",
    "\n",
    "![](./img_BP_MRF/04.png)"
   ]
  },
  {
   "cell_type": "markdown",
   "metadata": {},
   "source": [
    "The creation of the nodes:"
   ]
  },
  {
   "cell_type": "code",
   "execution_count": 5,
   "metadata": {},
   "outputs": [],
   "source": [
    "X_1 = Node(\"X_1\", [0, 1])\n",
    "X_2 = Node(\"X_2\", [0, 1])\n",
    "X_3 = Node(\"X_3\", [0, 1])\n",
    "X_4 = Node(\"X_4\", [0, 1])"
   ]
  },
  {
   "cell_type": "markdown",
   "metadata": {},
   "source": [
    "The creation of the factors:"
   ]
  },
  {
   "cell_type": "code",
   "execution_count": 6,
   "metadata": {},
   "outputs": [],
   "source": [
    "Phi_1 = Factor(\"Phi_1\", [X_1],\n",
    "   {0: 0.1, 1: 0.9}\n",
    ")\n",
    "Phi_2 = Factor(\"Phi_2\", [X_1, X_2],\n",
    "   {\n",
    "       (0, 0): 0.3,\n",
    "       (0, 1): 0.7,\n",
    "       (1, 0): 0.9,\n",
    "       (1, 1): 0.1\n",
    "   }\n",
    ")\n",
    "Phi_3 = Factor(\"Phi_3\", [X_3],\n",
    "   {0: 0.8, 1: 0.2}\n",
    ")\n",
    "Phi_4 = Factor(\"Phi_4\", [X_2, X_3, X_4],\n",
    "   {\n",
    "       (0, 0, 0): 0.3,\n",
    "       (0, 0, 1): 0.7,\n",
    "       (0, 1, 0): 0.8,\n",
    "       (0, 1, 1): 0.2,\n",
    "       (1, 0, 0): 0.1,\n",
    "       (1, 0, 1): 0.9,\n",
    "       (1, 1, 0): 0.2,\n",
    "       (1, 1, 1): 0.8\n",
    "   }\n",
    ")"
   ]
  },
  {
   "cell_type": "markdown",
   "metadata": {},
   "source": [
    "The declaration of a MRF instance:"
   ]
  },
  {
   "cell_type": "code",
   "execution_count": 7,
   "metadata": {},
   "outputs": [],
   "source": [
    "nodes = [X_1, X_2, X_3, X_4]\n",
    "factors = [Phi_1, Phi_2, Phi_3, Phi_4]\n",
    "\n",
    "mrf = MarkovRandomField(nodes, factors)"
   ]
  },
  {
   "cell_type": "markdown",
   "metadata": {},
   "source": [
    "Perform the Belief Propagation process by 10 steps:"
   ]
  },
  {
   "cell_type": "code",
   "execution_count": 8,
   "metadata": {},
   "outputs": [],
   "source": [
    "mrf.belief_propagation(10)"
   ]
  },
  {
   "cell_type": "markdown",
   "metadata": {},
   "source": [
    "Check the results of the marginal distribution of the each node:"
   ]
  },
  {
   "cell_type": "code",
   "execution_count": 9,
   "metadata": {},
   "outputs": [
    {
     "data": {
      "text/plain": [
       "({0: 0.1, 1: 0.9},\n",
       " {0: 0.8400000000000001, 1: 0.16},\n",
       " {0: 0.8, 1: 0.20000000000000007},\n",
       " {0: 0.35520000000000007, 1: 0.6447999999999999})"
      ]
     },
     "execution_count": 9,
     "metadata": {},
     "output_type": "execute_result"
    }
   ],
   "source": [
    "X_1.marginal_distribution(), X_2.marginal_distribution(), X_3.marginal_distribution(), X_4.marginal_distribution()"
   ]
  },
  {
   "cell_type": "markdown",
   "metadata": {},
   "source": [
    "Check the results of the joint distribution of the random variables corresponding to the each factor:"
   ]
  },
  {
   "cell_type": "code",
   "execution_count": 10,
   "metadata": {},
   "outputs": [
    {
     "data": {
      "text/plain": [
       "({0: 0.1, 1: 0.9},\n",
       " {(0, 0): 0.03,\n",
       "  (0, 1): 0.06999999999999999,\n",
       "  (1, 0): 0.81,\n",
       "  (1, 1): 0.09000000000000001},\n",
       " {0: 0.8, 1: 0.20000000000000007},\n",
       " {(0, 0, 0): 0.20159999999999997,\n",
       "  (0, 0, 1): 0.4704,\n",
       "  (0, 1, 0): 0.13440000000000002,\n",
       "  (0, 1, 1): 0.033600000000000005,\n",
       "  (1, 0, 0): 0.012799999999999997,\n",
       "  (1, 0, 1): 0.11519999999999998,\n",
       "  (1, 1, 0): 0.006399999999999999,\n",
       "  (1, 1, 1): 0.025599999999999994})"
      ]
     },
     "execution_count": 10,
     "metadata": {},
     "output_type": "execute_result"
    }
   ],
   "source": [
    "Phi_1.joint_distribution(), Phi_2.joint_distribution(), Phi_3.joint_distribution(), Phi_4.joint_distribution(), "
   ]
  }
 ],
 "metadata": {
  "kernelspec": {
   "display_name": "Python 3",
   "language": "python",
   "name": "python3"
  },
  "language_info": {
   "codemirror_mode": {
    "name": "ipython",
    "version": 3
   },
   "file_extension": ".py",
   "mimetype": "text/x-python",
   "name": "python",
   "nbconvert_exporter": "python",
   "pygments_lexer": "ipython3",
   "version": "3.5.2"
  }
 },
 "nbformat": 4,
 "nbformat_minor": 2
}
