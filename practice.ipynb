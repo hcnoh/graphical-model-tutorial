{
 "cells": [
  {
   "cell_type": "code",
   "execution_count": 1,
   "metadata": {},
   "outputs": [],
   "source": [
    "import numpy as np"
   ]
  },
  {
   "cell_type": "code",
   "execution_count": 2,
   "metadata": {},
   "outputs": [],
   "source": [
    "phi_1 = np.array([0.1, 0.9])\n",
    "phi_2 = np.array([[0.3, 0.7], [0.9, 0.1]])\n",
    "phi_3 = np.array([0.8, 0.2])\n",
    "phi_4 = np.array([[[0.3, 0.7], [0.8, 0.2]], [[0.1, 0.9], [0.2, 0.8]]])"
   ]
  },
  {
   "cell_type": "code",
   "execution_count": 3,
   "metadata": {},
   "outputs": [
    {
     "data": {
      "text/plain": [
       "(array([0.3, 0.7]), array([0.9, 0.1]))"
      ]
     },
     "execution_count": 3,
     "metadata": {},
     "output_type": "execute_result"
    }
   ],
   "source": [
    "phi_2[0, :], phi_2[1, :]"
   ]
  },
  {
   "cell_type": "code",
   "execution_count": 4,
   "metadata": {},
   "outputs": [],
   "source": [
    "mu_factor_11 = np.array([0.5, 0.5])\n",
    "mu_factor_12 = np.array([0.5, 0.5])\n",
    "mu_factor_22 = np.array([0.5, 0.5])\n",
    "mu_factor_33 = np.array([0.5, 0.5])\n",
    "mu_factor_24 = np.array([0.5, 0.5])\n",
    "mu_factor_34 = np.array([0.5, 0.5])\n",
    "mu_factor_44 = np.array([0.5, 0.5])"
   ]
  },
  {
   "cell_type": "code",
   "execution_count": 5,
   "metadata": {},
   "outputs": [
    {
     "data": {
      "text/plain": [
       "array([0.3, 0.7])"
      ]
     },
     "execution_count": 5,
     "metadata": {},
     "output_type": "execute_result"
    }
   ],
   "source": [
    "phi_2[0, :]"
   ]
  },
  {
   "cell_type": "code",
   "execution_count": 6,
   "metadata": {},
   "outputs": [
    {
     "data": {
      "text/plain": [
       "0.5"
      ]
     },
     "execution_count": 6,
     "metadata": {},
     "output_type": "execute_result"
    }
   ],
   "source": [
    "phi_2[0, 0] * mu_factor_22[0] + phi_2[0, 1] * mu_factor_22[1]"
   ]
  },
  {
   "cell_type": "code",
   "execution_count": 7,
   "metadata": {},
   "outputs": [
    {
     "data": {
      "text/plain": [
       "(0.15, 0.35)"
      ]
     },
     "execution_count": 7,
     "metadata": {},
     "output_type": "execute_result"
    }
   ],
   "source": [
    "phi_2[0, 0] * mu_factor_22[0], phi_2[0, 1] * mu_factor_22[1]"
   ]
  },
  {
   "cell_type": "code",
   "execution_count": 8,
   "metadata": {},
   "outputs": [
    {
     "data": {
      "text/plain": [
       "0.5"
      ]
     },
     "execution_count": 8,
     "metadata": {},
     "output_type": "execute_result"
    }
   ],
   "source": [
    "phi_2[1, 0] * mu_factor_22[0] + phi_2[1, 1] * mu_factor_22[1]"
   ]
  },
  {
   "cell_type": "code",
   "execution_count": 9,
   "metadata": {},
   "outputs": [
    {
     "data": {
      "text/plain": [
       "array([[0.15, 0.35],\n",
       "       [0.45, 0.05]])"
      ]
     },
     "execution_count": 9,
     "metadata": {},
     "output_type": "execute_result"
    }
   ],
   "source": [
    "phi_2 * mu_factor_22"
   ]
  },
  {
   "cell_type": "code",
   "execution_count": 10,
   "metadata": {},
   "outputs": [
    {
     "data": {
      "text/plain": [
       "array([0.5, 0.5])"
      ]
     },
     "execution_count": 10,
     "metadata": {},
     "output_type": "execute_result"
    }
   ],
   "source": [
    "np.sum(phi_2 * mu_factor_22, axis=-1)"
   ]
  },
  {
   "cell_type": "code",
   "execution_count": 11,
   "metadata": {},
   "outputs": [
    {
     "data": {
      "text/plain": [
       "array([[[0.3, 0.7],\n",
       "        [0.8, 0.2]],\n",
       "\n",
       "       [[0.1, 0.9],\n",
       "        [0.2, 0.8]]])"
      ]
     },
     "execution_count": 11,
     "metadata": {},
     "output_type": "execute_result"
    }
   ],
   "source": [
    "phi_4"
   ]
  },
  {
   "cell_type": "code",
   "execution_count": 12,
   "metadata": {},
   "outputs": [
    {
     "data": {
      "text/plain": [
       "(array([0.15, 0.35]), array([0.45, 0.05]))"
      ]
     },
     "execution_count": 12,
     "metadata": {},
     "output_type": "execute_result"
    }
   ],
   "source": [
    "phi_2[0, :] * mu_factor_22, phi_2[1, :] * mu_factor_22"
   ]
  },
  {
   "cell_type": "code",
   "execution_count": 13,
   "metadata": {},
   "outputs": [
    {
     "data": {
      "text/plain": [
       "(0.5, 0.5)"
      ]
     },
     "execution_count": 13,
     "metadata": {},
     "output_type": "execute_result"
    }
   ],
   "source": [
    "np.sum(phi_2[0, :] * mu_factor_22), np.sum(phi_2[1, :] * mu_factor_22)"
   ]
  },
  {
   "cell_type": "code",
   "execution_count": 14,
   "metadata": {},
   "outputs": [
    {
     "data": {
      "text/plain": [
       "(0.6, 0.39999999999999997)"
      ]
     },
     "execution_count": 14,
     "metadata": {},
     "output_type": "execute_result"
    }
   ],
   "source": [
    "np.sum(phi_2[:, 0] * mu_factor_12), np.sum(phi_2[:, 1] * mu_factor_12)"
   ]
  },
  {
   "cell_type": "code",
   "execution_count": 15,
   "metadata": {},
   "outputs": [
    {
     "data": {
      "text/plain": [
       "(0.5, 0.5)"
      ]
     },
     "execution_count": 15,
     "metadata": {},
     "output_type": "execute_result"
    }
   ],
   "source": [
    "np.sum(\n",
    "    np.sum(phi_4[0, 0, :] * mu_factor_34[0] * mu_factor_44) + \\\n",
    "    np.sum(phi_4[0, 1, :] * mu_factor_34[1] * mu_factor_44)\n",
    "), \\\n",
    "np.sum(\n",
    "    np.sum(phi_4[1, 0, :] * mu_factor_34[0] * mu_factor_44) + \\\n",
    "    np.sum(phi_4[1, 1, :] * mu_factor_34[1] * mu_factor_44)\n",
    ")"
   ]
  },
  {
   "cell_type": "code",
   "execution_count": 16,
   "metadata": {},
   "outputs": [
    {
     "name": "stdout",
     "output_type": "stream",
     "text": [
      "(0.35, 0.65)\n",
      "(0.28800000000000003, 0.712)\n",
      "(0.35520000000000007, 0.6448)\n",
      "(0.35520000000000007, 0.6448)\n",
      "(0.35520000000000007, 0.6448)\n",
      "(0.35520000000000007, 0.6448)\n",
      "(0.35520000000000007, 0.6448)\n",
      "(0.35520000000000007, 0.6448)\n",
      "(0.35520000000000007, 0.6448)\n",
      "(0.35520000000000007, 0.6448)\n",
      "(0.35520000000000007, 0.6448)\n",
      "(0.35520000000000007, 0.6448)\n",
      "(0.35520000000000007, 0.6448)\n",
      "(0.35520000000000007, 0.6448)\n",
      "(0.35520000000000007, 0.6448)\n",
      "(0.35520000000000007, 0.6448)\n",
      "(0.35520000000000007, 0.6448)\n",
      "(0.35520000000000007, 0.6448)\n",
      "(0.35520000000000007, 0.6448)\n",
      "(0.35520000000000007, 0.6448)\n",
      "(0.35520000000000007, 0.6448)\n",
      "(0.35520000000000007, 0.6448)\n",
      "(0.35520000000000007, 0.6448)\n",
      "(0.35520000000000007, 0.6448)\n",
      "(0.35520000000000007, 0.6448)\n",
      "(0.35520000000000007, 0.6448)\n",
      "(0.35520000000000007, 0.6448)\n",
      "(0.35520000000000007, 0.6448)\n",
      "(0.35520000000000007, 0.6448)\n",
      "(0.35520000000000007, 0.6448)\n",
      "(0.35520000000000007, 0.6448)\n",
      "(0.35520000000000007, 0.6448)\n",
      "(0.35520000000000007, 0.6448)\n",
      "(0.35520000000000007, 0.6448)\n",
      "(0.35520000000000007, 0.6448)\n",
      "(0.35520000000000007, 0.6448)\n",
      "(0.35520000000000007, 0.6448)\n",
      "(0.35520000000000007, 0.6448)\n",
      "(0.35520000000000007, 0.6448)\n",
      "(0.35520000000000007, 0.6448)\n",
      "(0.35520000000000007, 0.6448)\n",
      "(0.35520000000000007, 0.6448)\n",
      "(0.35520000000000007, 0.6448)\n",
      "(0.35520000000000007, 0.6448)\n",
      "(0.35520000000000007, 0.6448)\n",
      "(0.35520000000000007, 0.6448)\n",
      "(0.35520000000000007, 0.6448)\n",
      "(0.35520000000000007, 0.6448)\n",
      "(0.35520000000000007, 0.6448)\n",
      "(0.35520000000000007, 0.6448)\n",
      "(0.35520000000000007, 0.6448)\n",
      "(0.35520000000000007, 0.6448)\n",
      "(0.35520000000000007, 0.6448)\n",
      "(0.35520000000000007, 0.6448)\n",
      "(0.35520000000000007, 0.6448)\n",
      "(0.35520000000000007, 0.6448)\n",
      "(0.35520000000000007, 0.6448)\n",
      "(0.35520000000000007, 0.6448)\n",
      "(0.35520000000000007, 0.6448)\n",
      "(0.35520000000000007, 0.6448)\n",
      "(0.35520000000000007, 0.6448)\n",
      "(0.35520000000000007, 0.6448)\n",
      "(0.35520000000000007, 0.6448)\n",
      "(0.35520000000000007, 0.6448)\n",
      "(0.35520000000000007, 0.6448)\n",
      "(0.35520000000000007, 0.6448)\n",
      "(0.35520000000000007, 0.6448)\n",
      "(0.35520000000000007, 0.6448)\n",
      "(0.35520000000000007, 0.6448)\n",
      "(0.35520000000000007, 0.6448)\n",
      "(0.35520000000000007, 0.6448)\n",
      "(0.35520000000000007, 0.6448)\n",
      "(0.35520000000000007, 0.6448)\n",
      "(0.35520000000000007, 0.6448)\n",
      "(0.35520000000000007, 0.6448)\n",
      "(0.35520000000000007, 0.6448)\n",
      "(0.35520000000000007, 0.6448)\n",
      "(0.35520000000000007, 0.6448)\n",
      "(0.35520000000000007, 0.6448)\n",
      "(0.35520000000000007, 0.6448)\n",
      "(0.35520000000000007, 0.6448)\n",
      "(0.35520000000000007, 0.6448)\n",
      "(0.35520000000000007, 0.6448)\n",
      "(0.35520000000000007, 0.6448)\n",
      "(0.35520000000000007, 0.6448)\n",
      "(0.35520000000000007, 0.6448)\n",
      "(0.35520000000000007, 0.6448)\n",
      "(0.35520000000000007, 0.6448)\n",
      "(0.35520000000000007, 0.6448)\n",
      "(0.35520000000000007, 0.6448)\n",
      "(0.35520000000000007, 0.6448)\n",
      "(0.35520000000000007, 0.6448)\n",
      "(0.35520000000000007, 0.6448)\n",
      "(0.35520000000000007, 0.6448)\n",
      "(0.35520000000000007, 0.6448)\n",
      "(0.35520000000000007, 0.6448)\n",
      "(0.35520000000000007, 0.6448)\n",
      "(0.35520000000000007, 0.6448)\n",
      "(0.35520000000000007, 0.6448)\n",
      "(0.35520000000000007, 0.6448)\n"
     ]
    }
   ],
   "source": [
    "for i in range(100):\n",
    "    mu_node_11 = phi_1\n",
    "    mu_node_21 = np.array([np.sum(phi_2[0, :] * mu_factor_22), np.sum(phi_2[1, :] * mu_factor_22)])\n",
    "    \n",
    "    mu_node_22 = np.array([np.sum(phi_2[:, 0] * mu_factor_12), np.sum(phi_2[:, 1] * mu_factor_12)])\n",
    "    mu_node_42 = np.sum(\n",
    "        np.sum(phi_4[0, 0, :] * mu_factor_34[0] * mu_factor_44) + \\\n",
    "        np.sum(phi_4[0, 1, :] * mu_factor_34[1] * mu_factor_44)\n",
    "    ), \\\n",
    "    np.sum(\n",
    "        np.sum(phi_4[1, 0, :] * mu_factor_34[0] * mu_factor_44) + \\\n",
    "        np.sum(phi_4[1, 1, :] * mu_factor_34[1] * mu_factor_44)\n",
    "    )\n",
    "    \n",
    "    mu_node_33 = phi_3\n",
    "    mu_node_43 = np.sum(\n",
    "        np.sum(phi_4[0, 0, :] * mu_factor_24[0] * mu_factor_44) + \\\n",
    "        np.sum(phi_4[1, 0, :] * mu_factor_24[1] * mu_factor_44)\n",
    "    ), \\\n",
    "    np.sum(\n",
    "        np.sum(phi_4[0, 1, :] * mu_factor_24[0] * mu_factor_44) + \\\n",
    "        np.sum(phi_4[1, 1, :] * mu_factor_24[1] * mu_factor_44)\n",
    "    )\n",
    "    \n",
    "    mu_node_44 = np.sum(\n",
    "        np.sum(phi_4[:, 0, 0] * mu_factor_34[0] * mu_factor_24) + \\\n",
    "        np.sum(phi_4[:, 1, 0] * mu_factor_34[1] * mu_factor_24)\n",
    "    ), \\\n",
    "    np.sum(\n",
    "        np.sum(phi_4[:, 0, 1] * mu_factor_34[0] * mu_factor_24) + \\\n",
    "        np.sum(phi_4[:, 1, 1] * mu_factor_34[1] * mu_factor_24)\n",
    "    )\n",
    "    \n",
    "    mu_factor_11 = mu_node_21\n",
    "    mu_factor_12 = mu_node_11\n",
    "    mu_factor_22 = mu_node_42\n",
    "    mu_factor_33 = mu_node_43\n",
    "    mu_factor_24 = mu_node_22\n",
    "    mu_factor_34 = mu_node_33\n",
    "    mu_factor_44 = np.array([0.5, 0.5])\n",
    "    \n",
    "    print(mu_node_44)"
   ]
  },
  {
   "cell_type": "code",
   "execution_count": 17,
   "metadata": {},
   "outputs": [
    {
     "data": {
      "text/plain": [
       "(array([0.1, 0.9]),\n",
       " array([0.5, 0.5]),\n",
       " array([0.84, 0.16]),\n",
       " (0.5, 0.5),\n",
       " array([0.8, 0.2]),\n",
       " (0.5, 0.5000000000000001),\n",
       " (0.35520000000000007, 0.6448))"
      ]
     },
     "execution_count": 17,
     "metadata": {},
     "output_type": "execute_result"
    }
   ],
   "source": [
    "mu_node_11, mu_node_21, mu_node_22, mu_node_42, mu_node_33, mu_node_43, mu_node_44"
   ]
  },
  {
   "cell_type": "code",
   "execution_count": 18,
   "metadata": {},
   "outputs": [],
   "source": [
    "mu_node_1 = mu_node_11 * mu_node_21\n",
    "mu_node_2 = mu_node_22 * mu_node_42\n",
    "mu_node_3 = mu_node_33 * mu_node_43\n",
    "mu_node_4 = mu_node_44"
   ]
  },
  {
   "cell_type": "code",
   "execution_count": 19,
   "metadata": {},
   "outputs": [
    {
     "data": {
      "text/plain": [
       "(array([0.05, 0.45]),\n",
       " array([0.42, 0.08]),\n",
       " array([0.4, 0.1]),\n",
       " (0.35520000000000007, 0.6448))"
      ]
     },
     "execution_count": 19,
     "metadata": {},
     "output_type": "execute_result"
    }
   ],
   "source": [
    "mu_node_1, mu_node_2, mu_node_3, mu_node_4"
   ]
  },
  {
   "cell_type": "code",
   "execution_count": 20,
   "metadata": {},
   "outputs": [],
   "source": [
    "num_vars = 4\n",
    "nums_confs = np.array([2, 2, 2, 2])\n",
    "nodes2factors = np.array(\n",
    "    [\n",
    "        [1, 1, 0, 0],\n",
    "        [0, 1, 0, 1],\n",
    "        [0, 0, 1, 1],\n",
    "        [0, 0, 0, 1]\n",
    "    ]\n",
    ")\n",
    "factors2nodes = nodes2factors.T\n",
    "phis = np.array(\n",
    "    [\n",
    "        [0.1, 0.9],\n",
    "        [0.3, 0.7, 0.9, 0.1],\n",
    "        [0.8, 0.2],\n",
    "        [0.3, 0.7, 0.8, 0.2, 0.1, 0.9, 0.2, 0.8]\n",
    "    ]\n",
    ")"
   ]
  },
  {
   "cell_type": "code",
   "execution_count": 21,
   "metadata": {},
   "outputs": [],
   "source": [
    "def get_idxes(np_arr):\n",
    "    idxes = [np.prod(nums_confs[i+1:]) for i in np.where(np_arr == 1)[0][::-1]]\n",
    "    \n",
    "    return idxes\n",
    "\n",
    "def uint2bits(arr, num_bits):\n",
    "    '''\n",
    "        convert (numpyarray of uint => array of num_bits bits) for many bits in parallel...\n",
    "\n",
    "        reference: https://stackoverflow.com/questions/18296035/how-to-extract-the-bits-of-larger-numeric-numpy-data-types\n",
    "    '''\n",
    "    arr = arr.astype(np.uint32)\n",
    "    arr_shape = arr.shape\n",
    "    arr_flat = arr.flatten()\n",
    "    out_arr = np.zeros((len(arr_flat), num_bits))\n",
    "    for i in range(num_bits):\n",
    "        out_arr[:, i] = (arr_flat >> i) & 1\n",
    "    out_arr = out_arr.reshape(arr_shape +(num_bits,)).astype(np.int32)\n",
    "    \n",
    "    return out_arr"
   ]
  },
  {
   "cell_type": "code",
   "execution_count": 22,
   "metadata": {},
   "outputs": [
    {
     "name": "stdout",
     "output_type": "stream",
     "text": [
      "[[8], [4, 8], [2], [1, 2, 4]]\n"
     ]
    }
   ],
   "source": [
    "idxes = [get_idxes(nodes) for nodes in factors2nodes]\n",
    "print(idxes)\n",
    "total_num_confs = np.prod(nums_confs)\n",
    "phi_func = np.array(\n",
    "    [\n",
    "        [\n",
    "            phi[i // idx_list[0] % len(phi)] for i in range(total_num_confs)\n",
    "        ] for idx_list, phi in zip(idxes, phis)\n",
    "    ]\n",
    ")\n",
    "# for idx_list, phi in zip(idxes, phis):\n",
    "#     print(idx_list)\n",
    "#     for i in range(total_num_confs):\n",
    "#         print(phi[i // idx_list[0] % len(phi)])"
   ]
  },
  {
   "cell_type": "code",
   "execution_count": 23,
   "metadata": {},
   "outputs": [
    {
     "data": {
      "text/plain": [
       "array([[0.1, 0.1, 0.1, 0.1, 0.1, 0.1, 0.1, 0.1, 0.9, 0.9, 0.9, 0.9, 0.9,\n",
       "        0.9, 0.9, 0.9],\n",
       "       [0.3, 0.3, 0.3, 0.3, 0.7, 0.7, 0.7, 0.7, 0.9, 0.9, 0.9, 0.9, 0.1,\n",
       "        0.1, 0.1, 0.1],\n",
       "       [0.8, 0.8, 0.2, 0.2, 0.8, 0.8, 0.2, 0.2, 0.8, 0.8, 0.2, 0.2, 0.8,\n",
       "        0.8, 0.2, 0.2],\n",
       "       [0.3, 0.7, 0.8, 0.2, 0.1, 0.9, 0.2, 0.8, 0.3, 0.7, 0.8, 0.2, 0.1,\n",
       "        0.9, 0.2, 0.8]])"
      ]
     },
     "execution_count": 23,
     "metadata": {},
     "output_type": "execute_result"
    }
   ],
   "source": [
    "phi_func"
   ]
  },
  {
   "cell_type": "code",
   "execution_count": 24,
   "metadata": {},
   "outputs": [
    {
     "data": {
      "text/plain": [
       "[[8], [4, 8], [2], [1, 2, 4]]"
      ]
     },
     "execution_count": 24,
     "metadata": {},
     "output_type": "execute_result"
    }
   ],
   "source": [
    "idxes"
   ]
  },
  {
   "cell_type": "code",
   "execution_count": 25,
   "metadata": {},
   "outputs": [
    {
     "data": {
      "text/plain": [
       "array([[1, 0, 0, 0],\n",
       "       [1, 1, 0, 0],\n",
       "       [0, 0, 1, 0],\n",
       "       [0, 1, 1, 1]])"
      ]
     },
     "execution_count": 25,
     "metadata": {},
     "output_type": "execute_result"
    }
   ],
   "source": [
    "factors2nodes"
   ]
  },
  {
   "cell_type": "code",
   "execution_count": 26,
   "metadata": {},
   "outputs": [],
   "source": [
    "mu_factors = np.array(\n",
    "    [\n",
    "        [\n",
    "            [node]*nums_confs[i] for i, node in enumerate(nodes)\n",
    "        ] for nodes in factors2nodes\n",
    "    ]\n",
    ")"
   ]
  },
  {
   "cell_type": "code",
   "execution_count": 27,
   "metadata": {},
   "outputs": [
    {
     "data": {
      "text/plain": [
       "(7, 2)"
      ]
     },
     "execution_count": 27,
     "metadata": {},
     "output_type": "execute_result"
    }
   ],
   "source": [
    "mu_factors[factors2nodes == 1].shape"
   ]
  },
  {
   "cell_type": "code",
   "execution_count": 28,
   "metadata": {},
   "outputs": [
    {
     "data": {
      "text/plain": [
       "array([[1, 1],\n",
       "       [0, 0],\n",
       "       [0, 0],\n",
       "       [0, 0]])"
      ]
     },
     "execution_count": 28,
     "metadata": {},
     "output_type": "execute_result"
    }
   ],
   "source": [
    "mu_factors[0]"
   ]
  },
  {
   "cell_type": "code",
   "execution_count": 29,
   "metadata": {},
   "outputs": [
    {
     "data": {
      "text/plain": [
       "array([[1, 0, 0, 0],\n",
       "       [1, 1, 0, 0],\n",
       "       [0, 0, 1, 0],\n",
       "       [0, 1, 1, 1]])"
      ]
     },
     "execution_count": 29,
     "metadata": {},
     "output_type": "execute_result"
    }
   ],
   "source": [
    "factors2nodes"
   ]
  },
  {
   "cell_type": "code",
   "execution_count": 30,
   "metadata": {},
   "outputs": [],
   "source": [
    "from itertools import product\n",
    "from copy import deepcopy\n",
    "\n",
    "\n",
    "class MarkovRandomField():\n",
    "    def __init__(self, nodes, factors):\n",
    "        self.nodes = nodes\n",
    "        self.factors = factors\n",
    "        \n",
    "        self.num_nodes = len(self.nodes)\n",
    "        self.num_factors = len(self.factors)\n",
    "        \n",
    "        self.adj_mtx = self.get_adj_mtx() # [num_nodes, num_factors]\n",
    "        for row, node in zip(self.adj_mtx, self.nodes):\n",
    "            node.init_mus(row, self.factors)\n",
    "        for factor in self.factors:\n",
    "            factor.init_mus()\n",
    "    \n",
    "    def belief_propagation(self, steps):\n",
    "        for i in range(steps):\n",
    "            for factor in self.factors:\n",
    "                new_mus = factor.update_mu()\n",
    "                factor.mus = new_mus\n",
    "            for node in self.nodes:\n",
    "                new_mus = node.update_mu()\n",
    "                node.mus = new_mus\n",
    "    \n",
    "    def get_adj_mtx(self):\n",
    "        adj_mtx = np.zeros([self.num_nodes, self.num_factors])\n",
    "        \n",
    "        for i, node in enumerate(self.nodes):\n",
    "            for j, factor in enumerate(self.factors):\n",
    "                adj_mtx[i, j] = 1 if node in factor.nodes else 0\n",
    "        \n",
    "        return adj_mtx\n",
    "\n",
    "    \n",
    "class Node():\n",
    "    def __init__(self, name, vals):\n",
    "        self.name = name\n",
    "        self.vals = vals\n",
    "        self.vals.sort()\n",
    "    \n",
    "    def init_mus(self, adj_mtx_row, factors):\n",
    "        self.node_idxes = []\n",
    "        self.factors = []\n",
    "        self.mus = []\n",
    "        self.adj_nodes = []\n",
    "        self.adj_vals = []\n",
    "        for i in np.where(adj_mtx_row == 1)[0]:\n",
    "            factor = factors[i]\n",
    "            node_idx = factor.nodes.index(self)\n",
    "            \n",
    "            self.node_idxes.append(node_idx)\n",
    "            \n",
    "            self.factors.append(factor)\n",
    "            self.mus.append({val: 0. for val in self.vals})\n",
    "            \n",
    "            adj_nodes = factor.nodes[:]\n",
    "            adj_nodes.remove(self)\n",
    "            self.adj_nodes.append(adj_nodes)\n",
    "            \n",
    "            adj_vals = list(product(*[adj_node.vals for adj_node in adj_nodes]))\n",
    "            self.adj_vals.append(adj_vals)\n",
    "    \n",
    "    def mu(self, factor_idx, val):\n",
    "        return self.mus[factor_idx][val]\n",
    "    \n",
    "    def update_mu(self):\n",
    "        new_mus = deepcopy(self.mus)\n",
    "        for val in self.vals:\n",
    "            for i, (node_idx, factor, adj_nodes, adj_vals) in enumerate(\n",
    "                zip(\n",
    "                    self.node_idxes, self.factors, self.adj_nodes, self.adj_vals\n",
    "                )\n",
    "            ):\n",
    "                if len(adj_nodes) != 0:\n",
    "                    summation = 0\n",
    "                    for adj_val in adj_vals:\n",
    "                        factor_in = list(adj_val[:])\n",
    "                        factor_in.insert(node_idx, val)\n",
    "                        prod = factor(tuple(factor_in))\n",
    "                        for j, adj_node in enumerate(adj_nodes):\n",
    "                            prod *= factor.mu(adj_node.node_idxes[adj_node.factors.index(factor)], adj_val[j])\n",
    "                        summation += prod\n",
    "                    new_mus[i][val] = summation\n",
    "                else:\n",
    "                    new_mus[i][val] = factor(val)\n",
    "        \n",
    "        return new_mus\n",
    "    \n",
    "    def get_marginal_distribution(self):\n",
    "        P = {}\n",
    "        for val in self.vals:\n",
    "            all_mus = [self.mu(i, val) for i in range(len(self.factors))]\n",
    "            P[val] = np.prod(all_mus)\n",
    "            \n",
    "        P_temp = deepcopy(P)\n",
    "        for val in self.vals:\n",
    "            P[val] /= np.sum([value for _, value in P_temp.items()])\n",
    "        \n",
    "        return P\n",
    "            \n",
    "\n",
    "class Factor():\n",
    "    def __init__(self, name, nodes, maps, val_check=True):\n",
    "        '''\n",
    "            name: The name of this factor. e.g. \"phi_1\"\n",
    "            nodes: The list of the input names of this factor. e.g. [\"X_1\", \"X_2\"]\n",
    "            maps: The dictionary of the map btw the value tuples of the inputs and the factor output values. e.g.\n",
    "                {(0, 0): 0.25, (0, 1): 0.25, (1, 0): 0.25, (1, 1): 0.25}\n",
    "        '''\n",
    "        self.name = name\n",
    "        self.nodes = nodes\n",
    "        self.maps = maps\n",
    "        if val_check:\n",
    "            self.val_check()\n",
    "    \n",
    "    def __call__(self, vals):\n",
    "        '''\n",
    "            An example of this method's usage:\n",
    "                factor((1, 1)), Result: 0.25\n",
    "                factor(0), Result: 0.25\n",
    "        '''\n",
    "        return self.maps[vals]\n",
    "    \n",
    "    def init_mus(self):\n",
    "        self.mus = []\n",
    "        self.adj_factors = []\n",
    "        for node in self.nodes:\n",
    "            self.mus.append({val: 1/len(node.vals) for val in node.vals}) # Initialize with uniform distribution.\n",
    "            \n",
    "            adj_factors = node.factors[:]\n",
    "            adj_factors.remove(self)\n",
    "            \n",
    "            self.adj_factors.append(adj_factors)\n",
    "    \n",
    "    def mu(self, node_idx, val):\n",
    "        return self.mus[node_idx][val]\n",
    "    \n",
    "    def update_mu(self):\n",
    "        new_mus = deepcopy(self.mus)\n",
    "        for i, (node, adj_factors) in enumerate(zip(self.nodes, self.adj_factors)):\n",
    "            for val in node.vals:\n",
    "                if len(adj_factors) != 0:\n",
    "                    prod = 1\n",
    "                    for adj_factor in adj_factors:\n",
    "                        prod *= node.mu(node.factors.index(adj_factor), val)\n",
    "                    new_mus[i][val] = prod\n",
    "                else:\n",
    "                    new_mus[i][val] = self.mus[i][val]\n",
    "        \n",
    "        return new_mus\n",
    "    \n",
    "    def val_check(self):\n",
    "        for i, node in enumerate(self.nodes):\n",
    "            vals = set()\n",
    "            for key in self.maps.keys():\n",
    "                try:\n",
    "                    vals.add(key[i])\n",
    "                except:\n",
    "                    vals.add(key)\n",
    "            vals = list(vals)\n",
    "            vals.sort()\n",
    "            \n",
    "            if node.vals != vals:\n",
    "                raise ValueError\n",
    "                    "
   ]
  },
  {
   "cell_type": "code",
   "execution_count": 31,
   "metadata": {},
   "outputs": [],
   "source": [
    "X_1 = Node(\"X_1\", [0, 1])\n",
    "X_2 = Node(\"X_2\", [0, 1])\n",
    "X_3 = Node(\"X_3\", [0, 1])\n",
    "X_4 = Node(\"X_4\", [0, 1])\n",
    "\n",
    "Phi_1 = Factor(\"Phi_1\", [X_1],\n",
    "   {(0,): 0.1, (1,): 0.9}\n",
    ")\n",
    "Phi_2 = Factor(\"Phi_2\", [X_1, X_2],\n",
    "   {\n",
    "       (0, 0): 0.3,\n",
    "       (0, 1): 0.7,\n",
    "       (1, 0): 0.9,\n",
    "       (1, 1): 0.1\n",
    "   }\n",
    ")\n",
    "Phi_3 = Factor(\"Phi_3\", [X_3],\n",
    "   {(0,): 0.8, (1,): 0.2}\n",
    ")\n",
    "Phi_4 = Factor(\"Phi_4\", [X_2, X_3, X_4],\n",
    "   {\n",
    "       (0, 0, 0): 0.3,\n",
    "       (0, 0, 1): 0.7,\n",
    "       (0, 1, 0): 0.8,\n",
    "       (0, 1, 1): 0.2,\n",
    "       (1, 0, 0): 0.1,\n",
    "       (1, 0, 1): 0.9,\n",
    "       (1, 1, 0): 0.2,\n",
    "       (1, 1, 1): 0.8\n",
    "   }\n",
    ")\n",
    "\n",
    "nodes = [X_1, X_2, X_3, X_4]\n",
    "factors = [Phi_1, Phi_2, Phi_3, Phi_4]\n",
    "\n"
   ]
  },
  {
   "cell_type": "code",
   "execution_count": 32,
   "metadata": {},
   "outputs": [],
   "source": [
    "mrf = MarkovRandomField(nodes, factors)"
   ]
  },
  {
   "cell_type": "code",
   "execution_count": 33,
   "metadata": {},
   "outputs": [
    {
     "ename": "KeyError",
     "evalue": "0",
     "output_type": "error",
     "traceback": [
      "\u001b[1;31m---------------------------------------------------------------------------\u001b[0m",
      "\u001b[1;31mKeyError\u001b[0m                                  Traceback (most recent call last)",
      "\u001b[1;32m<ipython-input-33-aeb00a592eef>\u001b[0m in \u001b[0;36m<module>\u001b[1;34m\u001b[0m\n\u001b[1;32m----> 1\u001b[1;33m \u001b[0mmrf\u001b[0m\u001b[1;33m.\u001b[0m\u001b[0mbelief_propagation\u001b[0m\u001b[1;33m(\u001b[0m\u001b[1;36m10\u001b[0m\u001b[1;33m)\u001b[0m\u001b[1;33m\u001b[0m\u001b[0m\n\u001b[0m",
      "\u001b[1;32m<ipython-input-30-46399e29732d>\u001b[0m in \u001b[0;36mbelief_propagation\u001b[1;34m(self, steps)\u001b[0m\n\u001b[0;32m     23\u001b[0m                 \u001b[0mfactor\u001b[0m\u001b[1;33m.\u001b[0m\u001b[0mmus\u001b[0m \u001b[1;33m=\u001b[0m \u001b[0mnew_mus\u001b[0m\u001b[1;33m\u001b[0m\u001b[0m\n\u001b[0;32m     24\u001b[0m             \u001b[1;32mfor\u001b[0m \u001b[0mnode\u001b[0m \u001b[1;32min\u001b[0m \u001b[0mself\u001b[0m\u001b[1;33m.\u001b[0m\u001b[0mnodes\u001b[0m\u001b[1;33m:\u001b[0m\u001b[1;33m\u001b[0m\u001b[0m\n\u001b[1;32m---> 25\u001b[1;33m                 \u001b[0mnew_mus\u001b[0m \u001b[1;33m=\u001b[0m \u001b[0mnode\u001b[0m\u001b[1;33m.\u001b[0m\u001b[0mupdate_mu\u001b[0m\u001b[1;33m(\u001b[0m\u001b[1;33m)\u001b[0m\u001b[1;33m\u001b[0m\u001b[0m\n\u001b[0m\u001b[0;32m     26\u001b[0m                 \u001b[0mnode\u001b[0m\u001b[1;33m.\u001b[0m\u001b[0mmus\u001b[0m \u001b[1;33m=\u001b[0m \u001b[0mnew_mus\u001b[0m\u001b[1;33m\u001b[0m\u001b[0m\n\u001b[0;32m     27\u001b[0m \u001b[1;33m\u001b[0m\u001b[0m\n",
      "\u001b[1;32m<ipython-input-30-46399e29732d>\u001b[0m in \u001b[0;36mupdate_mu\u001b[1;34m(self)\u001b[0m\n\u001b[0;32m     86\u001b[0m                     \u001b[0mnew_mus\u001b[0m\u001b[1;33m[\u001b[0m\u001b[0mi\u001b[0m\u001b[1;33m]\u001b[0m\u001b[1;33m[\u001b[0m\u001b[0mval\u001b[0m\u001b[1;33m]\u001b[0m \u001b[1;33m=\u001b[0m \u001b[0msummation\u001b[0m\u001b[1;33m\u001b[0m\u001b[0m\n\u001b[0;32m     87\u001b[0m                 \u001b[1;32melse\u001b[0m\u001b[1;33m:\u001b[0m\u001b[1;33m\u001b[0m\u001b[0m\n\u001b[1;32m---> 88\u001b[1;33m                     \u001b[0mnew_mus\u001b[0m\u001b[1;33m[\u001b[0m\u001b[0mi\u001b[0m\u001b[1;33m]\u001b[0m\u001b[1;33m[\u001b[0m\u001b[0mval\u001b[0m\u001b[1;33m]\u001b[0m \u001b[1;33m=\u001b[0m \u001b[0mfactor\u001b[0m\u001b[1;33m(\u001b[0m\u001b[0mval\u001b[0m\u001b[1;33m)\u001b[0m\u001b[1;33m\u001b[0m\u001b[0m\n\u001b[0m\u001b[0;32m     89\u001b[0m \u001b[1;33m\u001b[0m\u001b[0m\n\u001b[0;32m     90\u001b[0m         \u001b[1;32mreturn\u001b[0m \u001b[0mnew_mus\u001b[0m\u001b[1;33m\u001b[0m\u001b[0m\n",
      "\u001b[1;32m<ipython-input-30-46399e29732d>\u001b[0m in \u001b[0;36m__call__\u001b[1;34m(self, vals)\u001b[0m\n\u001b[0;32m    123\u001b[0m                 \u001b[0mfactor\u001b[0m\u001b[1;33m(\u001b[0m\u001b[1;36m0\u001b[0m\u001b[1;33m)\u001b[0m\u001b[1;33m,\u001b[0m \u001b[0mResult\u001b[0m\u001b[1;33m:\u001b[0m \u001b[1;36m0.25\u001b[0m\u001b[1;33m\u001b[0m\u001b[0m\n\u001b[0;32m    124\u001b[0m         '''\n\u001b[1;32m--> 125\u001b[1;33m         \u001b[1;32mreturn\u001b[0m \u001b[0mself\u001b[0m\u001b[1;33m.\u001b[0m\u001b[0mmaps\u001b[0m\u001b[1;33m[\u001b[0m\u001b[0mvals\u001b[0m\u001b[1;33m]\u001b[0m\u001b[1;33m\u001b[0m\u001b[0m\n\u001b[0m\u001b[0;32m    126\u001b[0m \u001b[1;33m\u001b[0m\u001b[0m\n\u001b[0;32m    127\u001b[0m     \u001b[1;32mdef\u001b[0m \u001b[0minit_mus\u001b[0m\u001b[1;33m(\u001b[0m\u001b[0mself\u001b[0m\u001b[1;33m)\u001b[0m\u001b[1;33m:\u001b[0m\u001b[1;33m\u001b[0m\u001b[0m\n",
      "\u001b[1;31mKeyError\u001b[0m: 0"
     ]
    }
   ],
   "source": [
    "mrf.belief_propagation(10)"
   ]
  },
  {
   "cell_type": "code",
   "execution_count": null,
   "metadata": {},
   "outputs": [],
   "source": [
    "X_4.get_marginal_distribution()"
   ]
  },
  {
   "cell_type": "code",
   "execution_count": null,
   "metadata": {},
   "outputs": [],
   "source": [
    "X_4.mus"
   ]
  },
  {
   "cell_type": "code",
   "execution_count": null,
   "metadata": {},
   "outputs": [],
   "source": [
    "X_2.adj_nodes"
   ]
  },
  {
   "cell_type": "code",
   "execution_count": null,
   "metadata": {},
   "outputs": [],
   "source": [
    "X_2.adj_vals"
   ]
  },
  {
   "cell_type": "code",
   "execution_count": null,
   "metadata": {},
   "outputs": [],
   "source": [
    "X_2.mus"
   ]
  },
  {
   "cell_type": "code",
   "execution_count": null,
   "metadata": {},
   "outputs": [],
   "source": [
    "Phi_2.adj_factors"
   ]
  },
  {
   "cell_type": "code",
   "execution_count": null,
   "metadata": {},
   "outputs": [],
   "source": [
    "Phi_2.mus"
   ]
  },
  {
   "cell_type": "code",
   "execution_count": null,
   "metadata": {},
   "outputs": [],
   "source": [
    "Phi_1((0,))"
   ]
  },
  {
   "cell_type": "code",
   "execution_count": null,
   "metadata": {},
   "outputs": [],
   "source": [
    "X_2.mus"
   ]
  },
  {
   "cell_type": "code",
   "execution_count": null,
   "metadata": {},
   "outputs": [],
   "source": [
    "mrf.factors[3].nodes[0].name"
   ]
  },
  {
   "cell_type": "code",
   "execution_count": null,
   "metadata": {},
   "outputs": [],
   "source": [
    "l = [1, 2, 3]"
   ]
  },
  {
   "cell_type": "code",
   "execution_count": null,
   "metadata": {},
   "outputs": [],
   "source": [
    "{elem: elem for elem in l}"
   ]
  },
  {
   "cell_type": "code",
   "execution_count": null,
   "metadata": {},
   "outputs": [],
   "source": [
    "for i in product([1, 2], [3, 4]):\n",
    "    print(i)"
   ]
  },
  {
   "cell_type": "code",
   "execution_count": null,
   "metadata": {},
   "outputs": [],
   "source": [
    "l = {1: 1, 2: 2}"
   ]
  },
  {
   "cell_type": "code",
   "execution_count": null,
   "metadata": {},
   "outputs": [],
   "source": [
    "import copy\n",
    "\n",
    "ll = copy.deepcopy(l)"
   ]
  },
  {
   "cell_type": "code",
   "execution_count": null,
   "metadata": {},
   "outputs": [],
   "source": [
    "ll"
   ]
  }
 ],
 "metadata": {
  "kernelspec": {
   "display_name": "Python 3",
   "language": "python",
   "name": "python3"
  },
  "language_info": {
   "codemirror_mode": {
    "name": "ipython",
    "version": 3
   },
   "file_extension": ".py",
   "mimetype": "text/x-python",
   "name": "python",
   "nbconvert_exporter": "python",
   "pygments_lexer": "ipython3",
   "version": "3.5.2"
  }
 },
 "nbformat": 4,
 "nbformat_minor": 2
}
